{
 "cells": [
  {
   "cell_type": "markdown",
   "metadata": {},
   "source": [
    "# Projeto SuperComputação 2024.2\n",
    "\n",
    "## Análise de Redes Sociais: encontrando a clique máxima em um grafo.\n",
    "\n",
    "![Exemplo Clique](https://upload.wikimedia.org/wikipedia/commons/thumb/d/d0/VR_complex.svg/1200px-VR_complex.svg.png)\n",
    "\n",
    "\n",
    "A análise de redes sociais (ARS) é uma abordagem oriunda de áreas tais como Sociologia, Psicologia Social e Antropologia. Tal abordagem estuda as ligações relacionais (*relational tie*) entre atores sociais. Os atores na ARS podem ser tanto pessoas e empresas, analisadas como unidades individuais, quanto unidades sociais coletivas como, por exemplo, departamentos dentro de uma organização, agências de serviço público em uma cidade, estados-nações de um continente, dentre outras. A ARS difere fundamentalmente de outros estudos pelo fato de que sua ênfase não é nos atributos (características) dos atores, mas nas ligações entre eles.\n",
    "\n",
    "\n",
    "A idéia de uma clique em um grafo é relativamente simples. No nível mais geral, uma clique é um subconjunto de uma rede no qual os atores são mais próximos entre si do que com outros membros da rede. Em termo de laços de amizade, por exemplo, não é incomum encontrar grupos humanos que formam cliques baseando-se em idade, gênero, raça, etnia, religião, ideologia, e muitas coisas coisas. Uma clique é, portanto, um conjunto de vértices em um grafo em que cada par de vértices está diretamente conectado por uma aresta.\n",
    "\n",
    "Encontrar a clique máxima em um grafo é uma tarefa computacionalmente desafiadora devido à natureza combinatória do problema.  A dificuldade computacional surge da necessidade de explorar todas as combinações possíveis de vértices para identificar a maior clique, o que se torna exponencial em relação ao número de vértices. Isso resulta em uma complexidade computacional alta, mesmo para grafos moderadamente grandes.\n",
    "\n",
    "A importância de estudar cliques está notavelmente presente na análise de redes sociais, onde as cliques representam grupos coesos de indivíduos que compartilham interesses, amizades ou conexões em comum. A identificação de cliques ajuda a entender a estrutura de uma rede social, identificar influenciadores e grupos de afinidade, além de auxiliar na detecção de comunidades e na análise de dinâmicas sociais.\n",
    "\n",
    "As cliques são importantes, pois além de desenvolver em seus membros comportamentos homogêneos, elas têm, por definição, grande proximidade, aumentando a velocidade das trocas. Assim, informações dirigidas a uma clique são rapidamente absorvidas pelos seus membros, que tendem a percebê-las de forma semelhante. Isso é importante, por exemplo, em estratégias de segmentação.\n",
    "\n",
    "\n",
    "Portanto, a resolução eficiente do problema da clique máxima tem aplicações valiosas em áreas que vão desde a ciência da computação até a análise de dados em redes sociais."
   ]
  },
  {
   "cell_type": "markdown",
   "metadata": {},
   "source": [
    "## SUA TAREFA: Encontrar a clique máxima em um grafo.\n",
    "\n",
    "Seu programa deve receber um grafo a partir de um input de texto (abaixo você vai encontrar o código gerador do input). A partir da leitura do arquivo, você deve armazenar o grafo computacionalmente (matriz de adjacência, por exemplo). E com isso, você deverá executar três implementações:\n"
   ]
  },
  {
   "cell_type": "markdown",
   "metadata": {},
   "source": [
    "### Código gerador de grafo em Python:"
   ]
  },
  {
   "cell_type": "markdown",
   "metadata": {},
   "source": [
    "```py\n",
    "# O que faz: Gera um grafo aleatório e o salva no arquivo grafo.txt.\n",
    "# Resultado: Um arquivo de texto com os vértices e arestas do grafo.\n",
    "\n",
    "import networkx as nx\n",
    "import random\n",
    "\n",
    "# Parâmetros\n",
    "num_vertices = 150  # Número de vértices no grafo\n",
    "probabilidade_conexao = 0.7  # Probabilidade de haver uma aresta entre dois vértices\n",
    "\n",
    "# Crie um grafo aleatório densamente conectado\n",
    "grafo = nx.fast_gnp_random_graph(num_vertices, probabilidade_conexao)\n",
    "\n",
    "# Nome do arquivo de saída\n",
    "nome_arquivo = \"grafo.txt\"\n",
    "\n",
    "# Abra o arquivo para escrita\n",
    "with open(nome_arquivo, 'w') as arquivo:\n",
    "    # Escreva a quantidade de vértices e número de arestas na primeira linha\n",
    "    arquivo.write(f\"{num_vertices} {grafo.number_of_edges()}\\n\")\n",
    "\n",
    "    # Escreva as arestas no formato de lista de adjacência\n",
    "    for aresta in grafo.edges():\n",
    "        arquivo.write(f\"{aresta[0]+1} {aresta[1]+1}\\n\")  # +1 para ajustar os índices (começando em 1)\n",
    "\n",
    "print(f\"Grafo gerado e salvo em '{nome_arquivo}'.\")\n",
    "\n",
    "```"
   ]
  },
  {
   "cell_type": "markdown",
   "metadata": {},
   "source": [
    "### Código para leitura do grafo e armazenamento como matriz de adjacência (em C++):"
   ]
  },
  {
   "cell_type": "markdown",
   "metadata": {},
   "source": [
    "```cpp\n",
    "// O que faz: Lê o grafo do arquivo grafo.txt e armazena como uma matriz de adjacência.\n",
    "// Resultado: O grafo estará representado como uma matriz de adjacência.\n",
    "\n",
    "#include <iostream>\n",
    "#include <vector>\n",
    "#include <fstream>\n",
    "\n",
    "// Função para ler o grafo a partir do arquivo de entrada\n",
    "std::vector<std::vector<int>> LerGrafo(const std::string& nomeArquivo, int& numVertices) {\n",
    "    std::ifstream arquivo(nomeArquivo);\n",
    "    int numArestas;\n",
    "    arquivo >> numVertices >> numArestas;\n",
    "\n",
    "    // Cria uma matriz de adjacência de tamanho numVertices x numVertices\n",
    "    std::vector<std::vector<int>> grafo(numVertices, std::vector<int>(numVertices, 0));\n",
    "\n",
    "    // Preenche a matriz com as arestas do grafo\n",
    "    for (int i = 0; i < numArestas; ++i) {\n",
    "        int u, v;\n",
    "        arquivo >> u >> v;\n",
    "        grafo[u - 1][v - 1] = 1;\n",
    "        grafo[v - 1][u - 1] = 1;  // O grafo é não direcionado\n",
    "    }\n",
    "\n",
    "    arquivo.close();\n",
    "    return grafo;\n",
    "}\n",
    "\n",
    "```"
   ]
  },
  {
   "cell_type": "markdown",
   "metadata": {},
   "source": [
    "### Código para verificar (em Python) se seu programa encontrou a clique correta."
   ]
  },
  {
   "cell_type": "markdown",
   "metadata": {},
   "source": [
    "```py\n",
    "# O que faz: Lê o grafo gerado, encontra todas as cliques e exibe a maior clique.\n",
    "# Resultado: Exibe a maior clique do grafo.\n",
    "\n",
    "import networkx as nx\n",
    "\n",
    "# Nome do arquivo de entrada\n",
    "nome_arquivo = \"grafo.txt\"\n",
    "\n",
    "# Abrir o arquivo e pular a primeira linha\n",
    "with open(nome_arquivo, 'r') as arquivo:\n",
    "    next(arquivo)  # Pula a primeira linha\n",
    "\n",
    "    # Lê o grafo a partir das linhas restantes\n",
    "    G = nx.parse_adjlist(arquivo)\n",
    "\n",
    "# Encontrar todas as cliques maximais\n",
    "cliques_maximais = list(nx.find_cliques(G))\n",
    "\n",
    "# Encontrar a clique máxima (a maior)\n",
    "clique_maxima = max(cliques_maximais, key=len)\n",
    "\n",
    "print(\"Clique máxima encontrada:\", clique_maxima)\n",
    "\n",
    "```"
   ]
  },
  {
   "cell_type": "markdown",
   "metadata": {},
   "source": [
    "Foram criados 5 grafos:\n",
    "- 15 nós\n",
    "- 20 nós\n",
    "- 50 nós\n",
    "- 100 nós\n",
    "- 150 nós"
   ]
  },
  {
   "cell_type": "markdown",
   "metadata": {},
   "source": [
    "# 1. **Abordagem Exaustiva**\n",
    "\n",
    "A exaustão é uma abordagem que seleciona iterativamente os vértices para formar um clique, geralmente começando com um vértice e adicionando outros que tenham o maior número de vizinhos já na clique."
   ]
  },
  {
   "cell_type": "markdown",
   "metadata": {},
   "source": [
    "É referente ao arquivo BuscaExaustiva.cpp e o exercicio1.slurm\n",
    "\n",
    "Compilei com o comando g++ -std=c++11 -o busca_exaustiva BuscaExaustiva.cpp\n",
    "\n",
    "- Para 15 nós bateu e teve um tempo de execução de 0.00285535 segundos.\n",
    "- Para 20 nós bateu e teve um tempo de execução de 0.0396523 segundos.\n",
    "- Para 25 nós bateu e teve um tempo de execução de 0.976111 segundos.\n",
    "- Para 30 nós bateu e teve um tempo de execução de 27.33 segundos.\n",
    "- Para 35 não consegui chegar a ter tempo de execução que cabia no cluster.\n",
    "\n"
   ]
  },
  {
   "cell_type": "markdown",
   "metadata": {},
   "source": [
    "### Heurística de Poda: Branch and Bound\n",
    "\n",
    "A heurística de Branch and Bound (Ramificação e Poda) é uma técnica para reduzir a quantidade de combinações que precisamos testar ao resolver problemas de otimização, como o problema da clique máxima. Ela funciona usando duas ideias principais:\n",
    "\n",
    "Ramificação (Branch): Exploramos cada possibilidade de maneira organizada, dividindo o problema em \"ramos\" ou caminhos diferentes. No nosso caso, cada caminho representa a escolha de incluir ou não incluir um vértice na clique.\n",
    "\n",
    "Poda (Bound): Interrompemos a exploração de certos caminhos que sabemos que não podem gerar uma solução melhor do que a que já temos. Isso é feito por meio de uma \"limitação\" ou \"poda\", que permite descartar combinações sem ter que realmente verificar todas elas.\n",
    "\n",
    "Como Branch and Bound é Aplicada no Problema da Clique Máxima\n",
    "Ao tentar encontrar a maior clique em um grafo, queremos evitar testar todas as combinações possíveis de vértices, pois isso seria extremamente lento em grafos grandes. O Branch and Bound nos ajuda a ignorar combinações de vértices que não têm chance de formar uma clique maior do que a já encontrada."
   ]
  },
  {
   "cell_type": "markdown",
   "metadata": {},
   "source": [
    "```cpp\n",
    "Função BuscaExaustivaClique(Grafo, numVertices, MelhorClique, CliqueAtual, VerticeAtual)\n",
    "    Se tamanho de CliqueAtual > tamanho de MelhorClique E CliqueAtual é uma clique Então\n",
    "        MelhorClique = CliqueAtual\n",
    "\n",
    "    Se tamanho de CliqueAtual + (numVertices - VerticeAtual) <= tamanho de MelhorClique Então\n",
    "        Retornar  // Poda: não há vértices suficientes restantes para formar uma clique maior\n",
    "\n",
    "    Para cada vértice i de VerticeAtual até numVertices - 1 Faça\n",
    "        Se vértice i é adjacente a todos os vértices de CliqueAtual Então\n",
    "            Adicionar i a CliqueAtual\n",
    "            Chamar BuscaExaustivaClique(Grafo, numVertices, MelhorClique, CliqueAtual, i + 1)\n",
    "            Remover i de CliqueAtual\n",
    "        Fim Se\n",
    "    Fim Para\n",
    "Fim Função\n",
    "\n",
    "```"
   ]
  },
  {
   "cell_type": "markdown",
   "metadata": {},
   "source": [
    "# 2. **Abordagem OpenMP**\n",
    "\n",
    "É referente ao código BuscaExaustivaOMP.cpp e ao exercicio2.slurm\n",
    "\n",
    "Para compilar: g++ -fopenmp -o exercicio2 BuscaExaustivaOMP.cpp\n"
   ]
  },
  {
   "cell_type": "markdown",
   "metadata": {},
   "source": [
    "É referente ao arquivo BuscaExaustivaOMP.cpp e o exercicio2.slurm\n",
    "\n",
    "- Para 15 nós teve um tempo de execução de 0.00231709 segundos.\n",
    "- Para 20 nós teve um tempo de execução de 0.0258463 segundos.\n",
    "- Para 25 nós teve um tempo de execução de 0.884734 segundos.\n",
    "- Para 30 nós teve um tempo de execução de 14.4404 segundos.\n",
    "- Para 35 nós teve um tempo de execução de 534.126 segundos.\n",
    "\n"
   ]
  },
  {
   "cell_type": "markdown",
   "metadata": {},
   "source": [
    "Para 15:\n",
    "Tempo de execução: 0.00231709 segundos.\n",
    "Clique máxima encontrada: 4 5 6 11 12 14 \n",
    "Tamanho da clique máxima: 6\n",
    "\n",
    "Para 20:\n",
    "Tempo de execução: 0.0258463 segundos.\n",
    "Clique máxima encontrada: 3 4 6 10 12 15 17 18 \n",
    "Tamanho da clique máxima: 8\n",
    "\n",
    "Para 25:\n",
    "Tempo de execução: 0.884734 segundos.\n",
    "Clique máxima encontrada: 6 7 9 10 13 15 16 20 24 \n",
    "Tamanho da clique máxima: 9\n",
    "\n",
    "Para 30:\n",
    "Tempo de execução: 14.4404 segundos.\n",
    "Clique máxima encontrada: 2 3 5 11 12 21 24 25 26 30 \n",
    "Tamanho da clique máxima: 10\n",
    "\n",
    "Para 35:\n",
    "Tempo de execução: 534.126 segundos.\n",
    "Clique máxima encontrada: 6 7 10 13 21 26 28 30 32 34 \n",
    "Tamanho da clique máxima: 10"
   ]
  },
  {
   "cell_type": "markdown",
   "metadata": {},
   "source": [
    "# 3. **Abordagem MPI**\n",
    "\n",
    "É referente ao código BuscaExaustivaMPI.cpp e ao exercicio3.slurm\n",
    "\n",
    "Para compilar: g++ -fopenmp -o exercicio2 BuscaExaustivaOMP.cpp\n"
   ]
  },
  {
   "cell_type": "markdown",
   "metadata": {},
   "source": [
    "É referente ao arquivo BuscaExaustivaOMP.cpp e o exercicio2.slurm\n",
    "\n",
    "- Para 15 nós teve um tempo de execução de  segundos.\n",
    "- Para 20 nós teve um tempo de execução de  segundos.\n",
    "- Para 25 nós teve um tempo de execução de  segundos.\n",
    "- Para 30 nós teve um tempo de execução de  segundos.\n",
    "- Para 35 nós teve um tempo de execução de  segundos.\n",
    "\n"
   ]
  },
  {
   "cell_type": "markdown",
   "metadata": {},
   "source": []
  }
 ],
 "metadata": {
  "kernelspec": {
   "display_name": "Python 3",
   "language": "python",
   "name": "python3"
  },
  "language_info": {
   "codemirror_mode": {
    "name": "ipython",
    "version": 3
   },
   "file_extension": ".py",
   "mimetype": "text/x-python",
   "name": "python",
   "nbconvert_exporter": "python",
   "pygments_lexer": "ipython3",
   "version": "3.10.12"
  }
 },
 "nbformat": 4,
 "nbformat_minor": 2
}
