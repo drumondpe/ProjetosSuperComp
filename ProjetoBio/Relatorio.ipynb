{
 "cells": [
  {
   "cell_type": "markdown",
   "metadata": {},
   "source": [
    "# Projeto de Bioinformática\n"
   ]
  },
  {
   "cell_type": "markdown",
   "metadata": {},
   "source": [
    "Este projeto foi criado para explorar análises de dados genéticos em arquivos no formato FASTA, um tipo de arquivo que guarda sequências de DNA de forma simples e fácil de ler. No formato FASTA, cada sequência começa com uma linha de descrição (iniciada com \">\") que identifica a sequência, seguida por linhas com a própria sequência biológica, quebradas em blocos para facilitar a leitura.\n",
    "\n",
    "O objetivo dessa atividade é resolver algumas tarefas básicas de bioinformática de forma eficiente usando programação paralela com MPI (para dividir o trabalho entre diferentes processos) e OpenMP (para dividir tarefas entre threads). Com essas técnicas, foi possível processar grandes arquivos mais rápido e explorar a performance em sistemas multicore."
   ]
  },
  {
   "cell_type": "markdown",
   "metadata": {},
   "source": [
    "## Obtenção dos dados\n",
    "\n",
    "Os dados utilizados neste projeto correspondem às sequências do genoma humano. Para obtê-los, siga os passos abaixo:\n",
    "\n",
    "Utilize o comando wget para baixar os arquivos comprimidos:\n",
    "wget \"ftp://hgdownload.cse.ucsc.edu/goldenPath/hg19/snp147Mask/chrX.subst.fa.gz\"\n",
    "\n",
    "Após o download, descompacte os arquivos utilizando o comando gunzip: \"g\"unzip chrX.subst.fa.gz\"\n"
   ]
  },
  {
   "cell_type": "markdown",
   "metadata": {},
   "source": [
    "## Processamento dos dados\n",
    "\n",
    "Para realizar as análises, as sequências de DNA precisam ser padronizadas e limpas. O script process_genomes.sh cuida dessa tarefa automaticamente, garantindo que os dados estejam no formato ideal para os exercícios subsequentes. O processamento inclui:\n",
    "\n",
    "Converter para Maiúsculas: Todas as letras nas sequências são convertidas para maiúsculas. Isso é necessário para manter um padrão, pois as letras podem aparecer em maiúsculas ou minúsculas dependendo da fonte dos dados. Padronizar facilita a contagem de bases e outras operações.\n",
    "\n",
    "Remoção de Caracteres Indesejados: O script também elimina caracteres que não são bases de DNA (A, T, C, G), como o caractere N, que normalmente representa partes desconhecidas ou ambíguas da sequência. Outros caracteres não-biológicos também são removidos, deixando apenas as bases relevantes para análise.\n",
    "\n",
    "Estrutura dos Diretórios:\n",
    "\n",
    "Os arquivos originais dos cromossomos estão no diretório PreProcessamento.\n",
    "Após o processamento, os arquivos limpos são salvos no diretório PosProcessamento, prontos para uso nos exercícios."
   ]
  },
  {
   "cell_type": "markdown",
   "metadata": {},
   "source": [
    "## Sobre as Tarefas\n",
    "O projeto está dividido em uma série de exercícios que devem ser realizados na ordem apresentada, pois cada etapa viabiliza a próxima. \n",
    "\n",
    "#### Todos os códigos ficaram na pasta PosProcessamento porque eu estava tendo problema para acessar os arquivos pelo .slurm"
   ]
  },
  {
   "cell_type": "markdown",
   "metadata": {},
   "source": [
    "## Exercício 1\n",
    "Descrição: Implemente um programa paralelo que conte o número de ocorrências de\n",
    "cada base (A, T, C, G) em uma grande cadeia de DNA.\n",
    "- MPI: Divida a cadeia entre processos diferentes e agregue os resultados ao final.\n",
    "Como dividir? Parte dos dados? Uma porção dos arquivos por máquina?\n",
    "- OpenMP: Use paralelização em laços para distribuir a contagem entre threads.\n",
    "Como consolidar a contagem? Um dicionário? Um array? Variáveis soltas?\n",
    "\n",
    "Para executar o exercício 1 foi necessário:\n",
    "- compilar o exercício 1 com o seguinte comando: \"mpicxx -fopenmp -o exercicio1 Exercicio1.cpp\"\n",
    "\n",
    "- submeter o job ao cluster com o comando: \"sbatch Exercicio1.slurm\""
   ]
  },
  {
   "cell_type": "markdown",
   "metadata": {},
   "source": [
    "### Resultado do Exercício 1:\n",
    "Contagem total de bases:\n",
    "\n",
    "A: 763517118\n",
    "\n",
    "C: 511685713\n",
    "\n",
    "G: 511971484\n",
    "\n",
    "T: 764606176\n"
   ]
  },
  {
   "cell_type": "markdown",
   "metadata": {},
   "source": [
    "## Exercício 2\n",
    "Descrição: \n",
    "Desenvolva um programa que converta sequências de DNA em RNA. Lembre-se de que na transcrição, a base T (Timina) é substituída pela base U (Uracila).\n",
    "\n",
    "- MPI: Distribua a conversão entre diferentes processos e una as partes convertidas. Avalie a possibilidade de salvar o RNA em arquivos separados. É possível ignorar partes dos dados para otimizar o processo?\n",
    "- OpenMP: Paralelize a substituição dentro de loops, dividindo as tarefas entre threads.\n",
    "\n",
    "Para executar o exercício 2 foi necessário:\n",
    "- compilar o exercício 2 com o seguinte comando: \"mpicxx -fopenmp -o exercicio2 Exercicio2.cpp\"\n",
    "\n",
    "- submeter o job ao cluster com o comando: \"sbatch Exercicio2.slurm\"\n",
    "\n",
    " \n"
   ]
  },
  {
   "cell_type": "markdown",
   "metadata": {},
   "source": [
    "### Resultado do Exercício 2:\n",
    "Após a execução, os arquivos RNA devem ser gerados com o sufixo _processed.rna.fa no diretório PosProcessamento."
   ]
  },
  {
   "cell_type": "markdown",
   "metadata": {},
   "source": [
    "## Exercício 3\n",
    "Descrição: Desenvolva um programa que conte o número de proteínas que começam com o códon de início AUG em sequências de RNA. A contagem deve identificar o início das sequências de proteínas, facilitando a análise genética.\n",
    "\n",
    "- MPI: Distribua a busca e contagem do códon AUG entre processos e agregue o resultado final. Considere salvar resultados intermediários em arquivos separados, se necessário.\n",
    "- OpenMP: Paralelize a busca por AUG dentro de loops, dividindo a tarefa entre threads para agilizar a contagem."
   ]
  },
  {
   "cell_type": "markdown",
   "metadata": {},
   "source": [
    "Para executar o exercício 3 foi necessário:\n",
    "- Compilar o programa com o comando: \"mpicxx -fopenmp -o exercicio3 Exercicio3.cpp\"\n",
    "\n",
    "- Submeter o job ao cluster com o comando: \"sbatch Exercicio3.slurm\"\n",
    "\n"
   ]
  },
  {
   "cell_type": "markdown",
   "metadata": {},
   "source": [
    "### Resultado do Exercício 3:\n",
    "Processo 3 concluiu a contagem no cromossomo 4\n",
    "\n",
    "Processo 0 concluiu a contagem no cromossomo 1\n",
    "\n",
    "Processo 2 concluiu a contagem no cromossomo 3\n",
    "\n",
    "Processo 1 concluiu a contagem no cromossomo 2\n",
    "\n",
    "Processo 3 concluiu a contagem no cromossomo 8\n",
    "\n",
    "Processo 0 concluiu a contagem no cromossomo 5\n",
    "\n",
    "Processo 2 concluiu a contagem no cromossomo 7\n",
    "\n",
    "Processo 3 concluiu a contagem no cromossomo 12\n",
    "\n",
    "Processo 1 concluiu a contagem no cromossomo 6\n",
    "\n",
    "Processo 0 concluiu a contagem no cromossomo 9\n",
    "\n",
    "Processo 3 concluiu a contagem no cromossomo 16\n",
    "\n",
    "Processo 2 concluiu a contagem no cromossomo 11\n",
    "\n",
    "Processo 3 concluiu a contagem no cromossomo 20\n",
    "\n",
    "Processo 0 concluiu a contagem no cromossomo 13\n",
    "\n",
    "Processo 1 concluiu a contagem no cromossomo 10\n",
    "\n",
    "Processo 2 concluiu a contagem no cromossomo 15\n",
    "\n",
    "Processo 0 concluiu a contagem no cromossomo 17\n",
    "\n",
    "Processo 0 concluiu a contagem no cromossomo 21\n",
    "\n",
    "Processo 2 concluiu a contagem no cromossomo 19\n",
    "\n",
    "Processo 1 concluiu a contagem no cromossomo 14\n",
    "\n",
    "Processo 1 concluiu a contagem no cromossomo 18\n",
    "\n",
    "Processo 1 concluiu a contagem no cromossomo 22\n",
    "\n",
    "Número total de proteínas inicializadas (códons 'AUG'): 43682434\n"
   ]
  },
  {
   "cell_type": "markdown",
   "metadata": {},
   "source": [
    "## Exercício 4\n",
    "Descrição: Desenvolva um programa que conte as ocorrências de diferentes aminoácidos em sequências de RNA. O programa deve traduzir os códons correspondentes e manter uma contagem de cada aminoácido, exceto ao encontrar o códon STOP.\n",
    "\n",
    "- MPI: Divida a tarefa de leitura e tradução entre processos e, ao final, agregue as contagens. Considere salvar as contagens intermediárias para otimizar a execução.\n",
    "- OpenMP: Paralelize a tradução dos códons dentro dos loops, permitindo que cada thread conte as ocorrências dos aminoácidos."
   ]
  },
  {
   "cell_type": "markdown",
   "metadata": {},
   "source": [
    "Para executar o exercício 4 foi necessário:\n",
    "\n",
    "- Compilar o programa com o comando: mpicxx -fopenmp -o exercicio4 Exercicio4.cpp\n",
    "- Submeter o job ao cluster com o comando: sbatch Exercicio4.slurm\n",
    "\n"
   ]
  },
  {
   "cell_type": "markdown",
   "metadata": {},
   "source": [
    "### Resultado do Exercício 4:\n"
   ]
  },
  {
   "cell_type": "markdown",
   "metadata": {},
   "source": [
    "Processo 3 concluiu a contagem no cromossomo 4\n",
    "\n",
    "Processo 0 concluiu a contagem no cromossomo 1\n",
    "\n",
    "Processo 2 concluiu a contagem no cromossomo 3\n",
    "\n",
    "Processo 1 concluiu a contagem no cromossomo 2\n",
    "\n",
    "Processo 3 concluiu a contagem no cromossomo 8\n",
    "\n",
    "Processo 0 concluiu a contagem no cromossomo 5\n",
    "\n",
    "Processo 2 concluiu a contagem no cromossomo 7\n",
    "\n",
    "Processo 3 concluiu a contagem no cromossomo 12\n",
    "\n",
    "Processo 1 concluiu a contagem no cromossomo 6\n",
    "\n",
    "Processo 0 concluiu a contagem no cromossomo 9\n",
    "\n",
    "Processo 3 concluiu a contagem no cromossomo 16\n",
    "\n",
    "Processo 2 concluiu a contagem no cromossomo 11\n",
    "\n",
    "Processo 3 concluiu a contagem no cromossomo 20\n",
    "\n",
    "Processo 0 concluiu a contagem no cromossomo 13\n",
    "\n",
    "Processo 1 concluiu a contagem no cromossomo 10\n",
    "\n",
    "Processo 2 concluiu a contagem no cromossomo 15\n",
    "\n",
    "Processo 0 concluiu a contagem no cromossomo 17\n",
    "\n",
    "Processo 0 concluiu a contagem no cromossomo 21\n",
    "\n",
    "Processo 2 concluiu a contagem no cromossomo 19\n",
    "\n",
    "Processo 1 concluiu a contagem no cromossomo 14\n",
    "\n",
    "Processo 1 concluiu a contagem no cromossomo 18\n",
    "\n",
    "Processo 1 concluiu a contagem no cromossomo 22\n",
    "\n",
    "\n",
    "Contagem total de aminoácidos antes do códon STOP:\n",
    "\n",
    "Cisteína: 19256862\n",
    "\n",
    "Glutamina: 21194944\n",
    "\n",
    "Metionina: 39774729\n",
    "\n",
    "Prolina: 25661140\n",
    "\n",
    "Serina: 31599843\n",
    "\n",
    "Treonina: 25681318\n",
    "\n",
    "Valina: 28073053\n"
   ]
  },
  {
   "cell_type": "markdown",
   "metadata": {},
   "source": []
  }
 ],
 "metadata": {
  "language_info": {
   "name": "python"
  }
 },
 "nbformat": 4,
 "nbformat_minor": 2
}
